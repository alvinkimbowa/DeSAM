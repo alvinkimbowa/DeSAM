{
 "cells": [
  {
   "cell_type": "markdown",
   "metadata": {},
   "source": [
    "# MaxStyle preprocessed data"
   ]
  },
  {
   "cell_type": "code",
   "execution_count": 158,
   "metadata": {},
   "outputs": [],
   "source": [
    "import os\n",
    "import json\n",
    "import shutil\n",
    "import pandas as pd\n",
    "\n",
    "from glob import glob\n",
    "from tqdm import tqdm"
   ]
  },
  {
   "cell_type": "code",
   "execution_count": 159,
   "metadata": {},
   "outputs": [
    {
     "name": "stderr",
     "output_type": "stream",
     "text": [
      "100%|██████████| 7/7 [00:00<00:00, 741.31it/s]"
     ]
    },
    {
     "name": "stdout",
     "output_type": "stream",
     "text": [
      "A-ISBI: patients:  30\n",
      "B-ISBI_1.5: patients:  30\n",
      "C-I2CVB: patients:  19\n",
      "D-UCL: patients:  13\n",
      "E-BIDMC: patients:  12\n",
      "F-HK: patients:  12\n",
      "G-MedicalDecathlon: patients:  32\n"
     ]
    },
    {
     "name": "stderr",
     "output_type": "stream",
     "text": [
      "\n"
     ]
    },
    {
     "data": {
      "text/html": [
       "<div>\n",
       "<style scoped>\n",
       "    .dataframe tbody tr th:only-of-type {\n",
       "        vertical-align: middle;\n",
       "    }\n",
       "\n",
       "    .dataframe tbody tr th {\n",
       "        vertical-align: top;\n",
       "    }\n",
       "\n",
       "    .dataframe thead th {\n",
       "        text-align: right;\n",
       "    }\n",
       "</style>\n",
       "<table border=\"1\" class=\"dataframe\">\n",
       "  <thead>\n",
       "    <tr style=\"text-align: right;\">\n",
       "      <th></th>\n",
       "      <th>orig_id</th>\n",
       "      <th>patientid</th>\n",
       "      <th>center</th>\n",
       "    </tr>\n",
       "  </thead>\n",
       "  <tbody>\n",
       "    <tr>\n",
       "      <th>0</th>\n",
       "      <td>patient_20</td>\n",
       "      <td>0</td>\n",
       "      <td>A-ISBI</td>\n",
       "    </tr>\n",
       "    <tr>\n",
       "      <th>1</th>\n",
       "      <td>patient_5</td>\n",
       "      <td>1</td>\n",
       "      <td>A-ISBI</td>\n",
       "    </tr>\n",
       "    <tr>\n",
       "      <th>2</th>\n",
       "      <td>patient_11</td>\n",
       "      <td>2</td>\n",
       "      <td>A-ISBI</td>\n",
       "    </tr>\n",
       "    <tr>\n",
       "      <th>3</th>\n",
       "      <td>patient_26</td>\n",
       "      <td>3</td>\n",
       "      <td>A-ISBI</td>\n",
       "    </tr>\n",
       "    <tr>\n",
       "      <th>4</th>\n",
       "      <td>patient_27</td>\n",
       "      <td>4</td>\n",
       "      <td>A-ISBI</td>\n",
       "    </tr>\n",
       "    <tr>\n",
       "      <th>...</th>\n",
       "      <td>...</td>\n",
       "      <td>...</td>\n",
       "      <td>...</td>\n",
       "    </tr>\n",
       "    <tr>\n",
       "      <th>143</th>\n",
       "      <td>patient_10</td>\n",
       "      <td>143</td>\n",
       "      <td>G-MedicalDecathlon</td>\n",
       "    </tr>\n",
       "    <tr>\n",
       "      <th>144</th>\n",
       "      <td>patient_25</td>\n",
       "      <td>144</td>\n",
       "      <td>G-MedicalDecathlon</td>\n",
       "    </tr>\n",
       "    <tr>\n",
       "      <th>145</th>\n",
       "      <td>patient_4</td>\n",
       "      <td>145</td>\n",
       "      <td>G-MedicalDecathlon</td>\n",
       "    </tr>\n",
       "    <tr>\n",
       "      <th>146</th>\n",
       "      <td>patient_28</td>\n",
       "      <td>146</td>\n",
       "      <td>G-MedicalDecathlon</td>\n",
       "    </tr>\n",
       "    <tr>\n",
       "      <th>147</th>\n",
       "      <td>patient_21</td>\n",
       "      <td>147</td>\n",
       "      <td>G-MedicalDecathlon</td>\n",
       "    </tr>\n",
       "  </tbody>\n",
       "</table>\n",
       "<p>148 rows × 3 columns</p>\n",
       "</div>"
      ],
      "text/plain": [
       "        orig_id  patientid              center\n",
       "0    patient_20          0              A-ISBI\n",
       "1     patient_5          1              A-ISBI\n",
       "2    patient_11          2              A-ISBI\n",
       "3    patient_26          3              A-ISBI\n",
       "4    patient_27          4              A-ISBI\n",
       "..          ...        ...                 ...\n",
       "143  patient_10        143  G-MedicalDecathlon\n",
       "144  patient_25        144  G-MedicalDecathlon\n",
       "145   patient_4        145  G-MedicalDecathlon\n",
       "146  patient_28        146  G-MedicalDecathlon\n",
       "147  patient_21        147  G-MedicalDecathlon\n",
       "\n",
       "[148 rows x 3 columns]"
      ]
     },
     "execution_count": 159,
     "metadata": {},
     "output_type": "execute_result"
    }
   ],
   "source": [
    "site_dir = \"/home/alvin/UltrAi/Datasets/ai_ready_datasets/other_datasets/MICCAI2022_multi_site_prostate_dataset/reorganized\"\n",
    "sites = glob(site_dir + \"/*\")\n",
    "sites = [os.path.basename(site) for site in sites]\n",
    "sites.sort()\n",
    "\n",
    "# Separate images and labels into different folders\n",
    "id = 0\n",
    "orig_ids = []\n",
    "new_ids = []\n",
    "centers = []\n",
    "for site in tqdm(sites):\n",
    "    if site[0] not in [\"A\", \"B\", \"C\", \"D\", \"E\", \"F\", \"G\"]:\n",
    "        continue\n",
    "    print(site, end=\": \")\n",
    "    site_path = os.path.join(site_dir, site)\n",
    "    patient_ids = glob(site_path + \"/patient*\")\n",
    "    print(\"patients: \", len(patient_ids))\n",
    "\n",
    "    for patient_id in patient_ids:\n",
    "        img = os.path.join(patient_id, \"t2_img_clipped.nii.gz\")\n",
    "        label = os.path.join(patient_id, \"label_clipped.nii.gz\")\n",
    "\n",
    "        os.makedirs(os.path.join(site_dir, \"imagesTr\"), exist_ok=True)\n",
    "        os.makedirs(os.path.join(site_dir, \"labelsTr\"), exist_ok=True)\n",
    "\n",
    "        shutil.move(img, os.path.join(site_dir, \"imagesTr\", f\"patient_{id}.nii.gz\"))\n",
    "        shutil.move(label, os.path.join(site_dir, \"labelsTr\", f\"patient_{id}.nii.gz\"))\n",
    "\n",
    "        os.rmdir(patient_id)\n",
    "\n",
    "        centers.append(site)\n",
    "        orig_ids.append(os.path.basename(patient_id))\n",
    "        new_ids.append(id)\n",
    "\n",
    "        id += 1\n",
    "    \n",
    "    shutil.rmtree(site_path)\n",
    "\n",
    "# Create csv of patient_ids and their centers\n",
    "df = pd.DataFrame({\"orig_id\": orig_ids, \"patientid\": new_ids, \"center\": centers})\n",
    "df.to_csv(os.path.join(\"raw_data\", \"prostate_patientid.csv\"), index=False)\n",
    "df"
   ]
  },
  {
   "cell_type": "markdown",
   "metadata": {},
   "source": [
    "## Convert to nnunet format"
   ]
  },
  {
   "cell_type": "code",
   "execution_count": 160,
   "metadata": {},
   "outputs": [],
   "source": [
    "def convert_dataset(src_folder, dst_folder, imgs_dir, masks_dir, img_ext, test_data=False):\n",
    "    images_folder = imgs_dir\n",
    "    labels_folder = masks_dir\n",
    "\n",
    "    imgs = glob(os.path.join(src_folder, images_folder , f\"*{img_ext}\"))\n",
    "    # print(\"imgs: \", imgs)\n",
    "\n",
    "    for i, img in enumerate(imgs):\n",
    "        mask = os.path.join(src_folder, labels_folder, os.path.basename(img))\n",
    "        # print(\"\\timg: \", img)\n",
    "        # print(\"\\tmask: \", mask)\n",
    "        img_fn = os.path.basename(img)\n",
    "        id = int(img_fn.split(\".\")[0].split(\"_\")[1])\n",
    "        img_fn = f\"patient_{str(id).zfill(4)}_0000{img_ext}\"\n",
    "        # print(\"\\timg_fn: \", img_fn)\n",
    "        os.rename(img, os.path.join(src_folder, images_folder, img_fn))\n",
    "\n",
    "        mask_fn = os.path.basename(mask)\n",
    "        mask_fn = f\"patient_{str(id).zfill(4)}{img_ext}\"\n",
    "        # print(\"\\tmask_fn: \", mask_fn)\n",
    "        os.rename(mask, os.path.join(src_folder, labels_folder, mask_fn))\n",
    "\n",
    "    return None"
   ]
  },
  {
   "cell_type": "code",
   "execution_count": 161,
   "metadata": {},
   "outputs": [],
   "source": [
    "src_dir = site_dir\n",
    "dst_dir = src_dir\n",
    "img_ext = \".nii.gz\"\n",
    "imgs_dir = \"imagesTr\"\n",
    "masks_dir = \"labelsTr\"\n",
    "\n",
    "convert_dataset(src_dir, dst_dir, imgs_dir, masks_dir, img_ext)"
   ]
  },
  {
   "cell_type": "markdown",
   "metadata": {},
   "source": []
  },
  {
   "cell_type": "markdown",
   "metadata": {},
   "source": [
    "# FedDG data"
   ]
  },
  {
   "cell_type": "code",
   "execution_count": 25,
   "metadata": {},
   "outputs": [],
   "source": [
    "import os\n",
    "import shutil\n",
    "\n",
    "from glob import glob\n",
    "from tqdm import tqdm"
   ]
  },
  {
   "cell_type": "code",
   "execution_count": null,
   "metadata": {},
   "outputs": [
    {
     "name": "stderr",
     "output_type": "stream",
     "text": [
      "100%|██████████| 6/6 [00:00<00:00, 4389.64it/s]"
     ]
    },
    {
     "name": "stdout",
     "output_type": "stream",
     "text": [
      "BIDMC: cases:  0\n",
      "BMC: cases:  0\n",
      "UCL: cases:  0\n",
      "RUNMC: cases:  0\n",
      "HK: cases:  0\n",
      "I2CVB: cases:  0\n"
     ]
    },
    {
     "name": "stderr",
     "output_type": "stream",
     "text": [
      "\n"
     ]
    }
   ],
   "source": [
    "site_dir = \"/home/alvin/UltrAi/Datasets/ai_ready_datasets/other_datasets/Processed_multisite_prostate_data_nii\"\n",
    "sites = os.listdir(site_dir)\n",
    "\n",
    "# Separate images and labels into different folders\n",
    "for site in tqdm(sites):\n",
    "    print(site, end=\": \")\n",
    "    site_path = os.path.join(site_dir, site)\n",
    "    cases = glob(site_path + \"/*.nii.gz\")\n",
    "    cases = list(set([os.path.basename(case)[:6] for case in cases]))\n",
    "    print(\"cases: \", len(cases))\n",
    "\n",
    "    imgs = [os.path.join(site_path, case + \".nii.gz\") for case in cases]\n",
    "    labels = []\n",
    "    for case in cases:\n",
    "        label = os.path.join(site_path, case + \"_segmentation.nii.gz\")\n",
    "        if not os.path.exists(label):\n",
    "            label = os.path.join(site_path, case + \"_Segmentation.nii.gz\")\n",
    "            if not os.path.exists(label):\n",
    "                # print(\"Label for case {} not found\".format(case))\n",
    "                raise ValueError(\"Label for case {} not found\".format(case))\n",
    "        labels.append(label)\n",
    "\n",
    "    os.makedirs(os.path.join(site_path, \"images\"), exist_ok=True)\n",
    "    os.makedirs(os.path.join(site_path, \"labels\"), exist_ok=True)\n",
    "\n",
    "    for img in imgs:\n",
    "        shutil.move(img, os.path.join(site_path, \"images\", os.path.basename(img)))\n",
    "    for label in labels:\n",
    "        shutil.move(label, os.path.join(site_path, \"labels\", os.path.basename(label)))\n",
    "\n",
    "# Rename label files to remove segmentation\n",
    "for site in tqdm(sites):\n",
    "    site_path = os.path.join(site_dir, site)\n",
    "    labels = glob(os.path.join(site_path, \"labels\", \"*.nii.gz\"))\n",
    "    for label in labels:\n",
    "        new_label = label.replace(\"_segmentation\", \"\").replace(\"_Segmentation\", \"\")\n",
    "        os.rename(label, new_label)"
   ]
  }
 ],
 "metadata": {
  "kernelspec": {
   "display_name": "desam",
   "language": "python",
   "name": "python3"
  },
  "language_info": {
   "codemirror_mode": {
    "name": "ipython",
    "version": 3
   },
   "file_extension": ".py",
   "mimetype": "text/x-python",
   "name": "python",
   "nbconvert_exporter": "python",
   "pygments_lexer": "ipython3",
   "version": "3.10.16"
  }
 },
 "nbformat": 4,
 "nbformat_minor": 2
}
